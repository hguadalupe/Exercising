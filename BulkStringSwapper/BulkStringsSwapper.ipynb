{
 "cells": [
  {
   "cell_type": "code",
   "execution_count": 72,
   "id": "8c42da84",
   "metadata": {},
   "outputs": [],
   "source": [
    "#Lista de Strings:\n",
    "\n",
    "StringList = [\"123-asd-312-wee\",\"432-erw-342-rdg\",\"123-tre-234-gfd\"]\n",
    "\n",
    "#Diccionario de traducción:\n",
    "Dict_Trad1= {\"123\":\"aa\",\"432\":\"tt\",\"765\":\"uu\"}\n",
    "Dict_Trad2= {\"asd\":\"-11\",\"erw\":\"-44\",\"tre\":\"-77\"}\n",
    "Dict_Trad3= {\"312\":\"-bb\",\"342\":\"-jj\",\"234\":\"-vv\"}\n",
    "Dict_Trad4= {\"wee\":\"-22\"}"
   ]
  },
  {
   "cell_type": "code",
   "execution_count": 21,
   "id": "7e67e1eb",
   "metadata": {},
   "outputs": [
    {
     "data": {
      "text/plain": [
       "['aa-11-bb-22', 'tt-44-jj-rdg', 'aa-77-vv-gfd']"
      ]
     },
     "execution_count": 21,
     "metadata": {},
     "output_type": "execute_result"
    }
   ],
   "source": [
    "l_replace1 =[]\n",
    "l_replace2 =[]\n",
    "l_replace3 =[]\n",
    "l_replace4 =[]\n",
    "\n",
    "for k in Dict_Trad1.keys():\n",
    "    for a in StringList:\n",
    "        if k in a:\n",
    "            l_replace1.append(a.replace(k,Dict_Trad1[k]))\n",
    "        else:\n",
    "            pass\n",
    "        \n",
    "for k in Dict_Trad2.keys():\n",
    "    for a in l_replace1:\n",
    "        if k in a:\n",
    "            l_replace2.append(a.replace(k,Dict_Trad2[k]))\n",
    "        else:\n",
    "            pass\n",
    "        \n",
    "for k in Dict_Trad3.keys():\n",
    "    for a in l_replace2:\n",
    "        if k in a:\n",
    "            l_replace3.append(a.replace(k,Dict_Trad3[k]))\n",
    "        else:\n",
    "            pass\n",
    "\n",
    "for k in Dict_Trad4.keys():\n",
    "    for a in l_replace3:\n",
    "        if k in a:\n",
    "            l_replace4.append(a.replace(k,Dict_Trad4[k]))\n",
    "        else:\n",
    "            l_replace4.append(a)\n",
    "        \n",
    "l_replace4"
   ]
  },
  {
   "cell_type": "markdown",
   "id": "58ef2207",
   "metadata": {},
   "source": [
    "# Script para transformar nomenclaturas dada una lista de strings de nombres y diccionarios para \"traducir\" los fragmentos de texto encontrados."
   ]
  },
  {
   "cell_type": "code",
   "execution_count": 73,
   "id": "eb96dbbc",
   "metadata": {},
   "outputs": [
    {
     "data": {
      "text/plain": [
       "['aa--11--bb--22', 'tt--44--jj-rdg', 'aa--77--vv-gfd']"
      ]
     },
     "execution_count": 73,
     "metadata": {},
     "output_type": "execute_result"
    }
   ],
   "source": [
    "l_replace1 =[]\n",
    "l_replace2 =[]\n",
    "l_replace3 =[]\n",
    "l_replace4 =[]\n",
    "\n",
    "for string in StringList:\n",
    "        for old, new in Dict_Trad1.items():\n",
    "            string = string.replace(old, new)\n",
    "        l_replace1.append(string)\n",
    "        \n",
    "for string in l_replace1:\n",
    "        for old, new in Dict_Trad2.items():\n",
    "            string = string.replace(old, new)\n",
    "        l_replace2.append(string)\n",
    "        \n",
    "for string in l_replace2:\n",
    "        for old, new in Dict_Trad3.items():\n",
    "            string = string.replace(old, new)\n",
    "        l_replace3.append(string)\n",
    "        \n",
    "for string in l_replace3:\n",
    "        for old, new in Dict_Trad4.items():\n",
    "            string = string.replace(old, new)\n",
    "        l_replace4.append(string)\n",
    "            \n",
    "\n",
    "l_replace4"
   ]
  },
  {
   "cell_type": "markdown",
   "id": "6dd49436",
   "metadata": {},
   "source": [
    "# Script para crear nuevas nomenclaturas dada una lista de strings de nombres y diccionarios para \"traducir\" los fragmentos de texto encontrados"
   ]
  },
  {
   "cell_type": "code",
   "execution_count": 74,
   "id": "a7dc5be5",
   "metadata": {},
   "outputs": [
    {
     "data": {
      "text/plain": [
       "['aa-11-bb-22', 'tt-44-jj', 'aa-77-vv']"
      ]
     },
     "execution_count": 74,
     "metadata": {},
     "output_type": "execute_result"
    }
   ],
   "source": [
    "l_creator1 =[\"\" for x in StringList]\n",
    "l_creator2 =[\"\" for x in StringList]\n",
    "l_creator3 =[\"\" for x in StringList]\n",
    "l_creator4 =[\"\" for x in StringList]\n",
    " \n",
    "count = 0\n",
    "for string in StringList:\n",
    "        for old, new in Dict_Trad1.items():\n",
    "            if old in string:\n",
    "                l_creator1[count] = l_creator1[count] + str(new)\n",
    "        else:\n",
    "                l_creator4[count] = l_creator3[count]\n",
    "        count = count + 1\n",
    "        \n",
    "count = 0\n",
    "for string in StringList:\n",
    "        for old, new in Dict_Trad2.items():\n",
    "            if old in string:\n",
    "                l_creator2[count] = l_creator1[count] + str(new)\n",
    "        else:\n",
    "                l_creator4[count] = l_creator3[count]       \n",
    "        count = count + 1\n",
    "        \n",
    "count = 0\n",
    "for string in StringList:\n",
    "        for old, new in Dict_Trad3.items():\n",
    "            if old in string:\n",
    "                l_creator3[count] = l_creator2[count] + str(new)\n",
    "        else:\n",
    "                l_creator4[count] = l_creator3[count]\n",
    "        count = count +1\n",
    "        \n",
    "count = 0\n",
    "for string in StringList:\n",
    "        for old, new in Dict_Trad4.items():\n",
    "            if old in string:\n",
    "                l_creator4[count] = l_creator3[count] + str(new)\n",
    "            else:\n",
    "                l_creator4[count] = l_creator3[count]\n",
    "        count = count + 1\n",
    "        \n",
    "l_creator4"
   ]
  },
  {
   "cell_type": "code",
   "execution_count": null,
   "id": "3e6ad647",
   "metadata": {},
   "outputs": [],
   "source": []
  }
 ],
 "metadata": {
  "kernelspec": {
   "display_name": "Python 3 (ipykernel)",
   "language": "python",
   "name": "python3"
  },
  "language_info": {
   "codemirror_mode": {
    "name": "ipython",
    "version": 3
   },
   "file_extension": ".py",
   "mimetype": "text/x-python",
   "name": "python",
   "nbconvert_exporter": "python",
   "pygments_lexer": "ipython3",
   "version": "3.9.12"
  }
 },
 "nbformat": 4,
 "nbformat_minor": 5
}
