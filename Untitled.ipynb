{
 "cells": [
  {
   "cell_type": "code",
   "execution_count": 1,
   "id": "ba547114",
   "metadata": {},
   "outputs": [
    {
     "data": {
      "text/plain": [
       "'3.9.12'"
      ]
     },
     "execution_count": 1,
     "metadata": {},
     "output_type": "execute_result"
    }
   ],
   "source": [
    "from platform import python_version\n",
    "python_version()"
   ]
  },
  {
   "cell_type": "code",
   "execution_count": 11,
   "id": "d59940ca",
   "metadata": {},
   "outputs": [
    {
     "data": {
      "text/html": [
       "<div>\n",
       "<style scoped>\n",
       "    .dataframe tbody tr th:only-of-type {\n",
       "        vertical-align: middle;\n",
       "    }\n",
       "\n",
       "    .dataframe tbody tr th {\n",
       "        vertical-align: top;\n",
       "    }\n",
       "\n",
       "    .dataframe thead th {\n",
       "        text-align: right;\n",
       "    }\n",
       "</style>\n",
       "<table border=\"1\" class=\"dataframe\">\n",
       "  <thead>\n",
       "    <tr style=\"text-align: right;\">\n",
       "      <th></th>\n",
       "      <th>Unnamed: 0</th>\n",
       "      <th>built_area</th>\n",
       "      <th>modul_price</th>\n",
       "      <th>weeks_delay</th>\n",
       "      <th>weeks_duration</th>\n",
       "    </tr>\n",
       "  </thead>\n",
       "  <tbody>\n",
       "    <tr>\n",
       "      <th>count</th>\n",
       "      <td>3555.000000</td>\n",
       "      <td>3555.000000</td>\n",
       "      <td>3555.000000</td>\n",
       "      <td>3555.000000</td>\n",
       "      <td>3555.000000</td>\n",
       "    </tr>\n",
       "    <tr>\n",
       "      <th>mean</th>\n",
       "      <td>1777.000000</td>\n",
       "      <td>8573.883884</td>\n",
       "      <td>737.783916</td>\n",
       "      <td>17.795218</td>\n",
       "      <td>54.639944</td>\n",
       "    </tr>\n",
       "    <tr>\n",
       "      <th>std</th>\n",
       "      <td>1026.384431</td>\n",
       "      <td>5835.105470</td>\n",
       "      <td>251.400824</td>\n",
       "      <td>16.501862</td>\n",
       "      <td>19.988243</td>\n",
       "    </tr>\n",
       "    <tr>\n",
       "      <th>min</th>\n",
       "      <td>0.000000</td>\n",
       "      <td>50.763235</td>\n",
       "      <td>182.092514</td>\n",
       "      <td>0.000000</td>\n",
       "      <td>13.000000</td>\n",
       "    </tr>\n",
       "    <tr>\n",
       "      <th>25%</th>\n",
       "      <td>888.500000</td>\n",
       "      <td>3906.039796</td>\n",
       "      <td>565.767107</td>\n",
       "      <td>5.000000</td>\n",
       "      <td>39.000000</td>\n",
       "    </tr>\n",
       "    <tr>\n",
       "      <th>50%</th>\n",
       "      <td>1777.000000</td>\n",
       "      <td>8257.005747</td>\n",
       "      <td>700.774198</td>\n",
       "      <td>13.000000</td>\n",
       "      <td>52.000000</td>\n",
       "    </tr>\n",
       "    <tr>\n",
       "      <th>75%</th>\n",
       "      <td>2665.500000</td>\n",
       "      <td>12672.535958</td>\n",
       "      <td>879.700703</td>\n",
       "      <td>26.000000</td>\n",
       "      <td>70.000000</td>\n",
       "    </tr>\n",
       "    <tr>\n",
       "      <th>max</th>\n",
       "      <td>3554.000000</td>\n",
       "      <td>32385.786541</td>\n",
       "      <td>1903.912429</td>\n",
       "      <td>113.000000</td>\n",
       "      <td>122.000000</td>\n",
       "    </tr>\n",
       "  </tbody>\n",
       "</table>\n",
       "</div>"
      ],
      "text/plain": [
       "        Unnamed: 0    built_area  modul_price  weeks_delay  weeks_duration\n",
       "count  3555.000000   3555.000000  3555.000000  3555.000000     3555.000000\n",
       "mean   1777.000000   8573.883884   737.783916    17.795218       54.639944\n",
       "std    1026.384431   5835.105470   251.400824    16.501862       19.988243\n",
       "min       0.000000     50.763235   182.092514     0.000000       13.000000\n",
       "25%     888.500000   3906.039796   565.767107     5.000000       39.000000\n",
       "50%    1777.000000   8257.005747   700.774198    13.000000       52.000000\n",
       "75%    2665.500000  12672.535958   879.700703    26.000000       70.000000\n",
       "max    3554.000000  32385.786541  1903.912429   113.000000      122.000000"
      ]
     },
     "execution_count": 11,
     "metadata": {},
     "output_type": "execute_result"
    }
   ],
   "source": [
    "import pandas as pd\n",
    "import numpy as np\n",
    "\n",
    "df = pd.read_csv (r'preprocessed_TRAIN_csv')\n",
    "df.describe()"
   ]
  },
  {
   "cell_type": "code",
   "execution_count": 18,
   "id": "5423bdc1",
   "metadata": {},
   "outputs": [
    {
     "data": {
      "text/plain": [
       "<AxesSubplot:ylabel='Frequency'>"
      ]
     },
     "execution_count": 18,
     "metadata": {},
     "output_type": "execute_result"
    },
    {
     "data": {
      "image/png": "[encoded data removed]",
      "text/plain": [
       "<Figure size 432x288 with 1 Axes>"
      ]
     },
     "metadata": {
      "needs_background": "light"
     },
     "output_type": "display_data"
    }
   ],
   "source": [
    "df.plot.hist(column=[\"built_area\"])"
   ]
  },
  {
   "cell_type": "code",
   "execution_count": null,
   "id": "557a9c11",
   "metadata": {},
   "outputs": [],
   "source": []
  },
  {
   "cell_type": "code",
   "execution_count": null,
   "id": "50d1e4a2",
   "metadata": {},
   "outputs": [],
   "source": []
  }
 ],
 "metadata": {
  "kernelspec": {
   "display_name": "Python [conda env:root] *",
   "language": "python",
   "name": "conda-root-py"
  },
  "language_info": {
   "codemirror_mode": {
    "name": "ipython",
    "version": 3
   },
   "file_extension": ".py",
   "mimetype": "text/x-python",
   "name": "python",
   "nbconvert_exporter": "python",
   "pygments_lexer": "ipython3",
   "version": "3.9.12"
  }
 },
 "nbformat": 4,
 "nbformat_minor": 5
}
