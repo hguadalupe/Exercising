{
 "cells": [
  {
   "cell_type": "markdown",
   "id": "4c8059cb",
   "metadata": {},
   "source": [
    "## Ex.1 Create a DF\n"
   ]
  },
  {
   "cell_type": "code",
   "execution_count": 1,
   "id": "0e8b02bc",
   "metadata": {},
   "outputs": [],
   "source": [
    "import pandas as pd"
   ]
  },
  {
   "cell_type": "code",
   "execution_count": 28,
   "id": "826ec8a9",
   "metadata": {},
   "outputs": [],
   "source": [
    "import requests\n",
    "import random\n",
    "import numpy as np\n",
    "\n",
    "##This operation is for gathering words,bools and integers.\n",
    "#word_site = \"https://www.mit.edu/~ecprice/wordlist.10000\"\n",
    "#response = requests.get(word_site)\n",
    "#WORDS = response.content.splitlines()\n",
    "#randwords = random.choices(WORDS, k=20)\n",
    "#randInteg= random.sample(range(-10, 100), 20)\n",
    "#bools= [True,False]\n",
    "#randBool= np.random.choice(bools, size=20)\n",
    "\n",
    "randWords = ['sheriff', 'firm', 'first', 'carroll', 'taiwan', \n",
    "             'floor', 'dependent', 'earthquake', 'naples', 'kruger', \n",
    "             'chapter', 'lender','official','sheffield','ieee',\n",
    "             'moves','richmond','reader','adapted','well']\n",
    "randWords2 = ['build','infrastructure','allah','spin','meals','heart',\n",
    "            'mobile','first','charging','knowledgestorm','policies',\n",
    "            'brake','system','ross','superior','mastercard','saturday',\n",
    "            'resistant','anthony','investing']\n",
    "randInteg= [70, 79, -7, 66, 9, 63, 22, 78, \n",
    "            41, 32, 65, 54, 76, 83, 17, \n",
    "            -8, 28, 45, 15, 91]\n",
    "randBool= [ True, False,  True,  True,  True, False, \n",
    "           False,  True, False,True, False, False,\n",
    "           False,  True,  True,  True,  True,  True,False, False]"
   ]
  },
  {
   "cell_type": "code",
   "execution_count": 83,
   "id": "4f3a94ec",
   "metadata": {
    "scrolled": false
   },
   "outputs": [
    {
     "data": {
      "text/html": [
       "<div>\n",
       "<style scoped>\n",
       "    .dataframe tbody tr th:only-of-type {\n",
       "        vertical-align: middle;\n",
       "    }\n",
       "\n",
       "    .dataframe tbody tr th {\n",
       "        vertical-align: top;\n",
       "    }\n",
       "\n",
       "    .dataframe thead th {\n",
       "        text-align: right;\n",
       "    }\n",
       "</style>\n",
       "<table border=\"1\" class=\"dataframe\">\n",
       "  <thead>\n",
       "    <tr style=\"text-align: right;\">\n",
       "      <th></th>\n",
       "      <th>words</th>\n",
       "      <th>words2</th>\n",
       "      <th>integers</th>\n",
       "      <th>booleans</th>\n",
       "    </tr>\n",
       "  </thead>\n",
       "  <tbody>\n",
       "    <tr>\n",
       "      <th>0</th>\n",
       "      <td>sheriff</td>\n",
       "      <td>build</td>\n",
       "      <td>70</td>\n",
       "      <td>True</td>\n",
       "    </tr>\n",
       "    <tr>\n",
       "      <th>1</th>\n",
       "      <td>firm</td>\n",
       "      <td>infrastructure</td>\n",
       "      <td>79</td>\n",
       "      <td>False</td>\n",
       "    </tr>\n",
       "    <tr>\n",
       "      <th>2</th>\n",
       "      <td>first</td>\n",
       "      <td>allah</td>\n",
       "      <td>-7</td>\n",
       "      <td>True</td>\n",
       "    </tr>\n",
       "    <tr>\n",
       "      <th>3</th>\n",
       "      <td>carroll</td>\n",
       "      <td>spin</td>\n",
       "      <td>66</td>\n",
       "      <td>True</td>\n",
       "    </tr>\n",
       "    <tr>\n",
       "      <th>4</th>\n",
       "      <td>taiwan</td>\n",
       "      <td>meals</td>\n",
       "      <td>9</td>\n",
       "      <td>True</td>\n",
       "    </tr>\n",
       "  </tbody>\n",
       "</table>\n",
       "</div>"
      ],
      "text/plain": [
       "     words          words2  integers  booleans\n",
       "0  sheriff           build        70      True\n",
       "1     firm  infrastructure        79     False\n",
       "2    first           allah        -7      True\n",
       "3  carroll            spin        66      True\n",
       "4   taiwan           meals         9      True"
      ]
     },
     "execution_count": 83,
     "metadata": {},
     "output_type": "execute_result"
    }
   ],
   "source": [
    "d = {'words' : randWords ,'words2':randWords2, 'integers' : randInteg , 'booleans' : randBool}\n",
    "df = pd.DataFrame(data=d)\n",
    "df.head()"
   ]
  },
  {
   "cell_type": "code",
   "execution_count": 32,
   "id": "ce3be2eb",
   "metadata": {},
   "outputs": [],
   "source": [
    "#To export the DF.\n",
    "#df.to_csv(r'for_lambda_and_pyspark.csv', index = False)"
   ]
  },
  {
   "cell_type": "markdown",
   "id": "1db36524",
   "metadata": {},
   "source": [
    "## Ex. 2 Iterate with Lambda\n",
    "It gets on well with map() for numeric vales and functions with strings"
   ]
  },
  {
   "cell_type": "code",
   "execution_count": 74,
   "id": "c837f650",
   "metadata": {},
   "outputs": [],
   "source": [
    "def myfunc(p):\n",
    "    if p == 'True':\n",
    "        return 'tatum'\n",
    "    else:\n",
    "        return 'oooo'\n",
    "    "
   ]
  },
  {
   "cell_type": "code",
   "execution_count": 76,
   "id": "9233e370",
   "metadata": {},
   "outputs": [
    {
     "data": {
      "text/plain": [
       "'oooo'"
      ]
     },
     "execution_count": 76,
     "metadata": {},
     "output_type": "execute_result"
    }
   ],
   "source": [
    "myfunc(4,'True')"
   ]
  },
  {
   "cell_type": "code",
   "execution_count": 86,
   "id": "9da2a0fd",
   "metadata": {},
   "outputs": [],
   "source": [
    " df['peter'] = df['integers'].apply(lambda x: 'yeah' if x >50 else 'nooh')"
   ]
  },
  {
   "cell_type": "code",
   "execution_count": 87,
   "id": "369cea49",
   "metadata": {},
   "outputs": [
    {
     "data": {
      "text/html": [
       "<div>\n",
       "<style scoped>\n",
       "    .dataframe tbody tr th:only-of-type {\n",
       "        vertical-align: middle;\n",
       "    }\n",
       "\n",
       "    .dataframe tbody tr th {\n",
       "        vertical-align: top;\n",
       "    }\n",
       "\n",
       "    .dataframe thead th {\n",
       "        text-align: right;\n",
       "    }\n",
       "</style>\n",
       "<table border=\"1\" class=\"dataframe\">\n",
       "  <thead>\n",
       "    <tr style=\"text-align: right;\">\n",
       "      <th></th>\n",
       "      <th>words</th>\n",
       "      <th>words2</th>\n",
       "      <th>integers</th>\n",
       "      <th>booleans</th>\n",
       "      <th>peter</th>\n",
       "    </tr>\n",
       "  </thead>\n",
       "  <tbody>\n",
       "    <tr>\n",
       "      <th>0</th>\n",
       "      <td>sheriff</td>\n",
       "      <td>build</td>\n",
       "      <td>70</td>\n",
       "      <td>True</td>\n",
       "      <td>yeah</td>\n",
       "    </tr>\n",
       "    <tr>\n",
       "      <th>1</th>\n",
       "      <td>firm</td>\n",
       "      <td>infrastructure</td>\n",
       "      <td>79</td>\n",
       "      <td>False</td>\n",
       "      <td>yeah</td>\n",
       "    </tr>\n",
       "    <tr>\n",
       "      <th>2</th>\n",
       "      <td>first</td>\n",
       "      <td>allah</td>\n",
       "      <td>-7</td>\n",
       "      <td>True</td>\n",
       "      <td>nooh</td>\n",
       "    </tr>\n",
       "    <tr>\n",
       "      <th>3</th>\n",
       "      <td>carroll</td>\n",
       "      <td>spin</td>\n",
       "      <td>66</td>\n",
       "      <td>True</td>\n",
       "      <td>yeah</td>\n",
       "    </tr>\n",
       "    <tr>\n",
       "      <th>4</th>\n",
       "      <td>taiwan</td>\n",
       "      <td>meals</td>\n",
       "      <td>9</td>\n",
       "      <td>True</td>\n",
       "      <td>nooh</td>\n",
       "    </tr>\n",
       "    <tr>\n",
       "      <th>5</th>\n",
       "      <td>floor</td>\n",
       "      <td>heart</td>\n",
       "      <td>63</td>\n",
       "      <td>False</td>\n",
       "      <td>yeah</td>\n",
       "    </tr>\n",
       "    <tr>\n",
       "      <th>6</th>\n",
       "      <td>dependent</td>\n",
       "      <td>mobile</td>\n",
       "      <td>22</td>\n",
       "      <td>False</td>\n",
       "      <td>nooh</td>\n",
       "    </tr>\n",
       "    <tr>\n",
       "      <th>7</th>\n",
       "      <td>earthquake</td>\n",
       "      <td>first</td>\n",
       "      <td>78</td>\n",
       "      <td>True</td>\n",
       "      <td>yeah</td>\n",
       "    </tr>\n",
       "    <tr>\n",
       "      <th>8</th>\n",
       "      <td>naples</td>\n",
       "      <td>charging</td>\n",
       "      <td>41</td>\n",
       "      <td>False</td>\n",
       "      <td>nooh</td>\n",
       "    </tr>\n",
       "    <tr>\n",
       "      <th>9</th>\n",
       "      <td>kruger</td>\n",
       "      <td>knowledgestorm</td>\n",
       "      <td>32</td>\n",
       "      <td>True</td>\n",
       "      <td>nooh</td>\n",
       "    </tr>\n",
       "    <tr>\n",
       "      <th>10</th>\n",
       "      <td>chapter</td>\n",
       "      <td>policies</td>\n",
       "      <td>65</td>\n",
       "      <td>False</td>\n",
       "      <td>yeah</td>\n",
       "    </tr>\n",
       "    <tr>\n",
       "      <th>11</th>\n",
       "      <td>lender</td>\n",
       "      <td>brake</td>\n",
       "      <td>54</td>\n",
       "      <td>False</td>\n",
       "      <td>yeah</td>\n",
       "    </tr>\n",
       "    <tr>\n",
       "      <th>12</th>\n",
       "      <td>official</td>\n",
       "      <td>system</td>\n",
       "      <td>76</td>\n",
       "      <td>False</td>\n",
       "      <td>yeah</td>\n",
       "    </tr>\n",
       "    <tr>\n",
       "      <th>13</th>\n",
       "      <td>sheffield</td>\n",
       "      <td>ross</td>\n",
       "      <td>83</td>\n",
       "      <td>True</td>\n",
       "      <td>yeah</td>\n",
       "    </tr>\n",
       "    <tr>\n",
       "      <th>14</th>\n",
       "      <td>ieee</td>\n",
       "      <td>superior</td>\n",
       "      <td>17</td>\n",
       "      <td>True</td>\n",
       "      <td>nooh</td>\n",
       "    </tr>\n",
       "    <tr>\n",
       "      <th>15</th>\n",
       "      <td>moves</td>\n",
       "      <td>mastercard</td>\n",
       "      <td>-8</td>\n",
       "      <td>True</td>\n",
       "      <td>nooh</td>\n",
       "    </tr>\n",
       "    <tr>\n",
       "      <th>16</th>\n",
       "      <td>richmond</td>\n",
       "      <td>saturday</td>\n",
       "      <td>28</td>\n",
       "      <td>True</td>\n",
       "      <td>nooh</td>\n",
       "    </tr>\n",
       "    <tr>\n",
       "      <th>17</th>\n",
       "      <td>reader</td>\n",
       "      <td>resistant</td>\n",
       "      <td>45</td>\n",
       "      <td>True</td>\n",
       "      <td>nooh</td>\n",
       "    </tr>\n",
       "    <tr>\n",
       "      <th>18</th>\n",
       "      <td>adapted</td>\n",
       "      <td>anthony</td>\n",
       "      <td>15</td>\n",
       "      <td>False</td>\n",
       "      <td>nooh</td>\n",
       "    </tr>\n",
       "    <tr>\n",
       "      <th>19</th>\n",
       "      <td>well</td>\n",
       "      <td>investing</td>\n",
       "      <td>91</td>\n",
       "      <td>False</td>\n",
       "      <td>yeah</td>\n",
       "    </tr>\n",
       "  </tbody>\n",
       "</table>\n",
       "</div>"
      ],
      "text/plain": [
       "         words          words2  integers  booleans peter\n",
       "0      sheriff           build        70      True  yeah\n",
       "1         firm  infrastructure        79     False  yeah\n",
       "2        first           allah        -7      True  nooh\n",
       "3      carroll            spin        66      True  yeah\n",
       "4       taiwan           meals         9      True  nooh\n",
       "5        floor           heart        63     False  yeah\n",
       "6    dependent          mobile        22     False  nooh\n",
       "7   earthquake           first        78      True  yeah\n",
       "8       naples        charging        41     False  nooh\n",
       "9       kruger  knowledgestorm        32      True  nooh\n",
       "10     chapter        policies        65     False  yeah\n",
       "11      lender           brake        54     False  yeah\n",
       "12    official          system        76     False  yeah\n",
       "13   sheffield            ross        83      True  yeah\n",
       "14        ieee        superior        17      True  nooh\n",
       "15       moves      mastercard        -8      True  nooh\n",
       "16    richmond        saturday        28      True  nooh\n",
       "17      reader       resistant        45      True  nooh\n",
       "18     adapted         anthony        15     False  nooh\n",
       "19        well       investing        91     False  yeah"
      ]
     },
     "execution_count": 87,
     "metadata": {},
     "output_type": "execute_result"
    }
   ],
   "source": [
    "df"
   ]
  },
  {
   "cell_type": "code",
   "execution_count": 39,
   "id": "aeb36ec4",
   "metadata": {},
   "outputs": [
    {
     "name": "stdout",
     "output_type": "stream",
     "text": [
      "Result of mapping with a lambda function\n",
      "                   words          words2  integers  booleans\n",
      "0         sheriffsheriff           build        70      True\n",
      "1               firmfirm  infrastructure        79     False\n",
      "2             firstfirst           allah        -7      True\n",
      "3         carrollcarroll            spin        66      True\n",
      "4           taiwantaiwan           meals         9      True\n",
      "5             floorfloor           heart        63     False\n",
      "6     dependentdependent          mobile        22     False\n",
      "7   earthquakeearthquake           first        78      True\n",
      "8           naplesnaples        charging        41     False\n",
      "9           krugerkruger  knowledgestorm        32      True\n",
      "10        chapterchapter        policies        65     False\n",
      "11          lenderlender           brake        54     False\n",
      "12      officialofficial          system        76     False\n",
      "13    sheffieldsheffield            ross        83      True\n",
      "14              ieeeieee        superior        17      True\n",
      "15            movesmoves      mastercard        -8      True\n",
      "16      richmondrichmond        saturday        28      True\n",
      "17          readerreader       resistant        45      True\n",
      "18        adaptedadapted         anthony        15     False\n",
      "19              wellwell       investing        91     False\n"
     ]
    }
   ],
   "source": [
    "print('Result of mapping with a lambda function')\n",
    "df['words'] = df['words'].map(lambda x : x*2)\n",
    "\n",
    "print(df)"
   ]
  },
  {
   "cell_type": "markdown",
   "id": "ad50454c",
   "metadata": {},
   "source": [
    "## Ex. 3 Iterate with Functions"
   ]
  },
  {
   "cell_type": "code",
   "execution_count": null,
   "id": "245828b0",
   "metadata": {},
   "outputs": [],
   "source": [
    "def func(X):\n",
    "    return X**2\n",
    "r=map(func, df['A'])\n",
    "df['A']=pd.DataFrame(r)"
   ]
  },
  {
   "cell_type": "markdown",
   "id": "b8f884a8",
   "metadata": {},
   "source": [
    "## Ex. 4 Pyspark Iterations"
   ]
  },
  {
   "cell_type": "code",
   "execution_count": 1,
   "id": "3f731c9f",
   "metadata": {},
   "outputs": [],
   "source": [
    "# Create Pyspark enviroment"
   ]
  },
  {
   "cell_type": "markdown",
   "id": "29baf4ed",
   "metadata": {},
   "source": [
    "#### Foreach()"
   ]
  },
  {
   "cell_type": "code",
   "execution_count": null,
   "id": "b6e48a76",
   "metadata": {},
   "outputs": [],
   "source": [
    "#EXAMPLES\n",
    "#To get row by index. \n",
    "df.rdd.foreach(lambda x: \n",
    "              print(x[0], x[1], x[2], x[3])) \n",
    "\n",
    "#To get columns.  \n",
    "df.rdd.foreach(lambda x: print((x.column1, x.column2)))\n",
    "\n",
    "#Functions:\n",
    "def f(row):\n",
    "    print(row.name)\n",
    "\n",
    "df.foreach(f)"
   ]
  },
  {
   "cell_type": "markdown",
   "id": "cf703ba7",
   "metadata": {},
   "source": [
    "#### Map()\n",
    "Recomiendo este Link:\n",
    "https://sparkbyexamples.com/pandas/pandas-apply-function-usage-examples/"
   ]
  },
  {
   "cell_type": "code",
   "execution_count": null,
   "id": "c04f4d05",
   "metadata": {},
   "outputs": [],
   "source": [
    "#EXAMPLES\n",
    "# Apply to multiple columns\n",
    "df[['A','B']] = df[['A','B']].apply(function_with_two_variables)\n",
    "\n",
    "# Refering columns by index.\n",
    "rdd=df.rdd.map(lambda x: \n",
    "    (x[0]+\",\"+x[1],x[2],x[3]*2)\n",
    "    )  \n",
    "df2=rdd.toDF([\"name\",\"gender\",\"new_salary\"])\n",
    "df2.show()\n",
    "\n",
    "# Referring Column Names (another example)\n",
    "rdd2=df.rdd.map(lambda x: \n",
    "    (x[\"firstname\"]+\",\"+x[\"lastname\"],x[\"gender\"],x[\"salary\"]*2)\n",
    "    ) "
   ]
  },
  {
   "cell_type": "code",
   "execution_count": null,
   "id": "fc373655",
   "metadata": {},
   "outputs": [],
   "source": []
  },
  {
   "cell_type": "code",
   "execution_count": null,
   "id": "2c494d7f",
   "metadata": {},
   "outputs": [],
   "source": []
  },
  {
   "cell_type": "code",
   "execution_count": null,
   "id": "ec57bc7b",
   "metadata": {},
   "outputs": [],
   "source": []
  },
  {
   "cell_type": "markdown",
   "id": "7a78a6b0",
   "metadata": {},
   "source": []
  }
 ],
 "metadata": {
  "kernelspec": {
   "display_name": "Python [conda env:root] *",
   "language": "python",
   "name": "conda-root-py"
  },
  "language_info": {
   "codemirror_mode": {
    "name": "ipython",
    "version": 3
   },
   "file_extension": ".py",
   "mimetype": "text/x-python",
   "name": "python",
   "nbconvert_exporter": "python",
   "pygments_lexer": "ipython3",
   "version": "3.9.12"
  }
 },
 "nbformat": 4,
 "nbformat_minor": 5
}
