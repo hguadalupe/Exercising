{
 "cells": [
  {
   "cell_type": "markdown",
   "id": "4c8059cb",
   "metadata": {},
   "source": [
    "## Ex.1 Create a DF\n"
   ]
  },
  {
   "cell_type": "code",
   "execution_count": 1,
   "id": "0e8b02bc",
   "metadata": {},
   "outputs": [],
   "source": [
    "import pandas as pd"
   ]
  },
  {
   "cell_type": "code",
   "execution_count": 2,
   "id": "826ec8a9",
   "metadata": {},
   "outputs": [],
   "source": [
    "import requests\n",
    "import random\n",
    "import numpy as np\n",
    "\n",
    "##This operation is for gathering words,bools and integers.\n",
    "#word_site = \"https://www.mit.edu/~ecprice/wordlist.10000\"\n",
    "#response = requests.get(word_site)\n",
    "#WORDS = response.content.splitlines()\n",
    "#randwords = random.choices(WORDS, k=20)\n",
    "#randInteg= random.sample(range(-10, 100), 20)\n",
    "#bools= [True,False]\n",
    "#randBool= np.random.choice(bools, size=20)\n",
    "\n",
    "randWords = ['sheriff', 'firm', 'first', 'carroll', 'taiwan', \n",
    "             'floor', 'dependent', 'earthquake', 'naples', 'kruger', \n",
    "             'chapter', 'lender','official','sheffield','ieee',\n",
    "             'moves','richmond','reader','adapted','well']\n",
    "randWords2 = ['build','infrastructure','allah','spin','meals','heart',\n",
    "            'mobile','first','charging','knowledgestorm','policies',\n",
    "            'brake','system','ross','superior','mastercard','saturday',\n",
    "            'resistant','anthony','investing']\n",
    "randInteg= [70, 79, -7, 66, 9, 63, 22, 78, \n",
    "            41, 32, 65, 54, 76, 83, 17, \n",
    "            -8, 28, 45, 15, 91]\n",
    "randBool= [ True, False,  True,  True,  True, False, \n",
    "           False,  True, False,True, False, False,\n",
    "           False,  True,  True,  True,  True,  True,False, False]"
   ]
  },
  {
   "cell_type": "code",
   "execution_count": 44,
   "id": "4f3a94ec",
   "metadata": {
    "scrolled": false
   },
   "outputs": [
    {
     "data": {
      "text/html": [
       "<div>\n",
       "<style scoped>\n",
       "    .dataframe tbody tr th:only-of-type {\n",
       "        vertical-align: middle;\n",
       "    }\n",
       "\n",
       "    .dataframe tbody tr th {\n",
       "        vertical-align: top;\n",
       "    }\n",
       "\n",
       "    .dataframe thead th {\n",
       "        text-align: right;\n",
       "    }\n",
       "</style>\n",
       "<table border=\"1\" class=\"dataframe\">\n",
       "  <thead>\n",
       "    <tr style=\"text-align: right;\">\n",
       "      <th></th>\n",
       "      <th>words</th>\n",
       "      <th>words2</th>\n",
       "      <th>integers</th>\n",
       "      <th>booleans</th>\n",
       "    </tr>\n",
       "  </thead>\n",
       "  <tbody>\n",
       "    <tr>\n",
       "      <th>0</th>\n",
       "      <td>sheriff</td>\n",
       "      <td>build</td>\n",
       "      <td>70</td>\n",
       "      <td>True</td>\n",
       "    </tr>\n",
       "    <tr>\n",
       "      <th>1</th>\n",
       "      <td>firm</td>\n",
       "      <td>infrastructure</td>\n",
       "      <td>79</td>\n",
       "      <td>False</td>\n",
       "    </tr>\n",
       "    <tr>\n",
       "      <th>2</th>\n",
       "      <td>first</td>\n",
       "      <td>allah</td>\n",
       "      <td>-7</td>\n",
       "      <td>True</td>\n",
       "    </tr>\n",
       "    <tr>\n",
       "      <th>3</th>\n",
       "      <td>carroll</td>\n",
       "      <td>spin</td>\n",
       "      <td>66</td>\n",
       "      <td>True</td>\n",
       "    </tr>\n",
       "    <tr>\n",
       "      <th>4</th>\n",
       "      <td>taiwan</td>\n",
       "      <td>meals</td>\n",
       "      <td>9</td>\n",
       "      <td>True</td>\n",
       "    </tr>\n",
       "  </tbody>\n",
       "</table>\n",
       "</div>"
      ],
      "text/plain": [
       "     words          words2  integers  booleans\n",
       "0  sheriff           build        70      True\n",
       "1     firm  infrastructure        79     False\n",
       "2    first           allah        -7      True\n",
       "3  carroll            spin        66      True\n",
       "4   taiwan           meals         9      True"
      ]
     },
     "execution_count": 44,
     "metadata": {},
     "output_type": "execute_result"
    }
   ],
   "source": [
    "d = {'words' : randWords ,'words2':randWords2, 'integers' : randInteg , 'booleans' : randBool}\n",
    "df = pd.DataFrame(data=d)\n",
    "df.head()"
   ]
  },
  {
   "cell_type": "code",
   "execution_count": 32,
   "id": "ce3be2eb",
   "metadata": {},
   "outputs": [],
   "source": [
    "#To export the DF.\n",
    "#df.to_csv(r'for_lambda_and_pyspark.csv', index = False)"
   ]
  },
  {
   "cell_type": "markdown",
   "id": "1db36524",
   "metadata": {},
   "source": [
    "## Ex. 2 Iterate with Lambda\n",
    "It gets on well with map() for numeric vales and functions with strings"
   ]
  },
  {
   "cell_type": "code",
   "execution_count": 57,
   "id": "c837f650",
   "metadata": {},
   "outputs": [],
   "source": [
    "def myfunc(o,p):\n",
    "    if len(o) < 5 and p > 50 :\n",
    "        return 'tatum'\n",
    "    else:\n",
    "        return 'oooo'\n",
    "    "
   ]
  },
  {
   "cell_type": "code",
   "execution_count": 58,
   "id": "9233e370",
   "metadata": {},
   "outputs": [
    {
     "data": {
      "text/plain": [
       "'tatum'"
      ]
     },
     "execution_count": 58,
     "metadata": {},
     "output_type": "execute_result"
    }
   ],
   "source": [
    "myfunc(\"1323\",60)"
   ]
  },
  {
   "cell_type": "code",
   "execution_count": 61,
   "id": "9da2a0fd",
   "metadata": {},
   "outputs": [],
   "source": [
    "df['peter'] = df.apply(lambda x: \n",
    "                                myfunc(x['words'],x['integers']),axis=1)"
   ]
  },
  {
   "cell_type": "code",
   "execution_count": 62,
   "id": "6697df93",
   "metadata": {
    "scrolled": true
   },
   "outputs": [
    {
     "data": {
      "text/html": [
       "<div>\n",
       "<style scoped>\n",
       "    .dataframe tbody tr th:only-of-type {\n",
       "        vertical-align: middle;\n",
       "    }\n",
       "\n",
       "    .dataframe tbody tr th {\n",
       "        vertical-align: top;\n",
       "    }\n",
       "\n",
       "    .dataframe thead th {\n",
       "        text-align: right;\n",
       "    }\n",
       "</style>\n",
       "<table border=\"1\" class=\"dataframe\">\n",
       "  <thead>\n",
       "    <tr style=\"text-align: right;\">\n",
       "      <th></th>\n",
       "      <th>words</th>\n",
       "      <th>words2</th>\n",
       "      <th>integers</th>\n",
       "      <th>booleans</th>\n",
       "      <th>peter</th>\n",
       "    </tr>\n",
       "  </thead>\n",
       "  <tbody>\n",
       "    <tr>\n",
       "      <th>0</th>\n",
       "      <td>sheriff</td>\n",
       "      <td>build</td>\n",
       "      <td>70</td>\n",
       "      <td>True</td>\n",
       "      <td>oooo</td>\n",
       "    </tr>\n",
       "    <tr>\n",
       "      <th>1</th>\n",
       "      <td>firm</td>\n",
       "      <td>infrastructure</td>\n",
       "      <td>79</td>\n",
       "      <td>False</td>\n",
       "      <td>tatum</td>\n",
       "    </tr>\n",
       "    <tr>\n",
       "      <th>2</th>\n",
       "      <td>first</td>\n",
       "      <td>allah</td>\n",
       "      <td>-7</td>\n",
       "      <td>True</td>\n",
       "      <td>oooo</td>\n",
       "    </tr>\n",
       "    <tr>\n",
       "      <th>3</th>\n",
       "      <td>carroll</td>\n",
       "      <td>spin</td>\n",
       "      <td>66</td>\n",
       "      <td>True</td>\n",
       "      <td>oooo</td>\n",
       "    </tr>\n",
       "    <tr>\n",
       "      <th>4</th>\n",
       "      <td>taiwan</td>\n",
       "      <td>meals</td>\n",
       "      <td>9</td>\n",
       "      <td>True</td>\n",
       "      <td>oooo</td>\n",
       "    </tr>\n",
       "    <tr>\n",
       "      <th>5</th>\n",
       "      <td>floor</td>\n",
       "      <td>heart</td>\n",
       "      <td>63</td>\n",
       "      <td>False</td>\n",
       "      <td>oooo</td>\n",
       "    </tr>\n",
       "    <tr>\n",
       "      <th>6</th>\n",
       "      <td>dependent</td>\n",
       "      <td>mobile</td>\n",
       "      <td>22</td>\n",
       "      <td>False</td>\n",
       "      <td>oooo</td>\n",
       "    </tr>\n",
       "    <tr>\n",
       "      <th>7</th>\n",
       "      <td>earthquake</td>\n",
       "      <td>first</td>\n",
       "      <td>78</td>\n",
       "      <td>True</td>\n",
       "      <td>oooo</td>\n",
       "    </tr>\n",
       "    <tr>\n",
       "      <th>8</th>\n",
       "      <td>naples</td>\n",
       "      <td>charging</td>\n",
       "      <td>41</td>\n",
       "      <td>False</td>\n",
       "      <td>oooo</td>\n",
       "    </tr>\n",
       "    <tr>\n",
       "      <th>9</th>\n",
       "      <td>kruger</td>\n",
       "      <td>knowledgestorm</td>\n",
       "      <td>32</td>\n",
       "      <td>True</td>\n",
       "      <td>oooo</td>\n",
       "    </tr>\n",
       "    <tr>\n",
       "      <th>10</th>\n",
       "      <td>chapter</td>\n",
       "      <td>policies</td>\n",
       "      <td>65</td>\n",
       "      <td>False</td>\n",
       "      <td>oooo</td>\n",
       "    </tr>\n",
       "    <tr>\n",
       "      <th>11</th>\n",
       "      <td>lender</td>\n",
       "      <td>brake</td>\n",
       "      <td>54</td>\n",
       "      <td>False</td>\n",
       "      <td>oooo</td>\n",
       "    </tr>\n",
       "    <tr>\n",
       "      <th>12</th>\n",
       "      <td>official</td>\n",
       "      <td>system</td>\n",
       "      <td>76</td>\n",
       "      <td>False</td>\n",
       "      <td>oooo</td>\n",
       "    </tr>\n",
       "    <tr>\n",
       "      <th>13</th>\n",
       "      <td>sheffield</td>\n",
       "      <td>ross</td>\n",
       "      <td>83</td>\n",
       "      <td>True</td>\n",
       "      <td>oooo</td>\n",
       "    </tr>\n",
       "    <tr>\n",
       "      <th>14</th>\n",
       "      <td>ieee</td>\n",
       "      <td>superior</td>\n",
       "      <td>17</td>\n",
       "      <td>True</td>\n",
       "      <td>oooo</td>\n",
       "    </tr>\n",
       "    <tr>\n",
       "      <th>15</th>\n",
       "      <td>moves</td>\n",
       "      <td>mastercard</td>\n",
       "      <td>-8</td>\n",
       "      <td>True</td>\n",
       "      <td>oooo</td>\n",
       "    </tr>\n",
       "    <tr>\n",
       "      <th>16</th>\n",
       "      <td>richmond</td>\n",
       "      <td>saturday</td>\n",
       "      <td>28</td>\n",
       "      <td>True</td>\n",
       "      <td>oooo</td>\n",
       "    </tr>\n",
       "    <tr>\n",
       "      <th>17</th>\n",
       "      <td>reader</td>\n",
       "      <td>resistant</td>\n",
       "      <td>45</td>\n",
       "      <td>True</td>\n",
       "      <td>oooo</td>\n",
       "    </tr>\n",
       "    <tr>\n",
       "      <th>18</th>\n",
       "      <td>adapted</td>\n",
       "      <td>anthony</td>\n",
       "      <td>15</td>\n",
       "      <td>False</td>\n",
       "      <td>oooo</td>\n",
       "    </tr>\n",
       "    <tr>\n",
       "      <th>19</th>\n",
       "      <td>well</td>\n",
       "      <td>investing</td>\n",
       "      <td>91</td>\n",
       "      <td>False</td>\n",
       "      <td>tatum</td>\n",
       "    </tr>\n",
       "  </tbody>\n",
       "</table>\n",
       "</div>"
      ],
      "text/plain": [
       "         words          words2  integers  booleans  peter\n",
       "0      sheriff           build        70      True   oooo\n",
       "1         firm  infrastructure        79     False  tatum\n",
       "2        first           allah        -7      True   oooo\n",
       "3      carroll            spin        66      True   oooo\n",
       "4       taiwan           meals         9      True   oooo\n",
       "5        floor           heart        63     False   oooo\n",
       "6    dependent          mobile        22     False   oooo\n",
       "7   earthquake           first        78      True   oooo\n",
       "8       naples        charging        41     False   oooo\n",
       "9       kruger  knowledgestorm        32      True   oooo\n",
       "10     chapter        policies        65     False   oooo\n",
       "11      lender           brake        54     False   oooo\n",
       "12    official          system        76     False   oooo\n",
       "13   sheffield            ross        83      True   oooo\n",
       "14        ieee        superior        17      True   oooo\n",
       "15       moves      mastercard        -8      True   oooo\n",
       "16    richmond        saturday        28      True   oooo\n",
       "17      reader       resistant        45      True   oooo\n",
       "18     adapted         anthony        15     False   oooo\n",
       "19        well       investing        91     False  tatum"
      ]
     },
     "execution_count": 62,
     "metadata": {},
     "output_type": "execute_result"
    }
   ],
   "source": [
    "df"
   ]
  },
  {
   "cell_type": "code",
   "execution_count": 8,
   "id": "369cea49",
   "metadata": {},
   "outputs": [
    {
     "data": {
      "text/plain": [
       "words       object\n",
       "words2      object\n",
       "integers     int64\n",
       "booleans      bool\n",
       "dtype: object"
      ]
     },
     "execution_count": 8,
     "metadata": {},
     "output_type": "execute_result"
    }
   ],
   "source": [
    "df.dtypes"
   ]
  },
  {
   "cell_type": "markdown",
   "id": "b8f884a8",
   "metadata": {},
   "source": [
    "## Ex. 3 Pyspark Iterations"
   ]
  },
  {
   "cell_type": "markdown",
   "id": "b0baf386",
   "metadata": {},
   "source": [
    "http://localhost:8888/notebooks/Exercising/cheatsheets/pyspark/Pyspark_Iterate.ipynb\n",
    "\n",
    "http://localhost:8888/notebooks/Exercising/cheatsheets/pyspark/Pyspark_Jobs.ipynb"
   ]
  },
  {
   "cell_type": "code",
   "execution_count": 1,
   "id": "8af13eda",
   "metadata": {},
   "outputs": [],
   "source": [
    "import pandas as pd\n",
    "pandf= pd.read_csv ('for_lambda_and_pyspark.csv')"
   ]
  },
  {
   "cell_type": "code",
   "execution_count": 2,
   "id": "b265b387",
   "metadata": {},
   "outputs": [
    {
     "data": {
      "text/html": [
       "<div>\n",
       "<style scoped>\n",
       "    .dataframe tbody tr th:only-of-type {\n",
       "        vertical-align: middle;\n",
       "    }\n",
       "\n",
       "    .dataframe tbody tr th {\n",
       "        vertical-align: top;\n",
       "    }\n",
       "\n",
       "    .dataframe thead th {\n",
       "        text-align: right;\n",
       "    }\n",
       "</style>\n",
       "<table border=\"1\" class=\"dataframe\">\n",
       "  <thead>\n",
       "    <tr style=\"text-align: right;\">\n",
       "      <th></th>\n",
       "      <th>words</th>\n",
       "      <th>words2</th>\n",
       "      <th>integers</th>\n",
       "      <th>booleans</th>\n",
       "    </tr>\n",
       "  </thead>\n",
       "  <tbody>\n",
       "    <tr>\n",
       "      <th>0</th>\n",
       "      <td>sheriff</td>\n",
       "      <td>build</td>\n",
       "      <td>70</td>\n",
       "      <td>True</td>\n",
       "    </tr>\n",
       "    <tr>\n",
       "      <th>1</th>\n",
       "      <td>firm</td>\n",
       "      <td>infrastructure</td>\n",
       "      <td>79</td>\n",
       "      <td>False</td>\n",
       "    </tr>\n",
       "    <tr>\n",
       "      <th>2</th>\n",
       "      <td>first</td>\n",
       "      <td>allah</td>\n",
       "      <td>-7</td>\n",
       "      <td>True</td>\n",
       "    </tr>\n",
       "    <tr>\n",
       "      <th>3</th>\n",
       "      <td>carroll</td>\n",
       "      <td>spin</td>\n",
       "      <td>66</td>\n",
       "      <td>True</td>\n",
       "    </tr>\n",
       "    <tr>\n",
       "      <th>4</th>\n",
       "      <td>taiwan</td>\n",
       "      <td>meals</td>\n",
       "      <td>9</td>\n",
       "      <td>True</td>\n",
       "    </tr>\n",
       "  </tbody>\n",
       "</table>\n",
       "</div>"
      ],
      "text/plain": [
       "     words          words2  integers  booleans\n",
       "0  sheriff           build        70      True\n",
       "1     firm  infrastructure        79     False\n",
       "2    first           allah        -7      True\n",
       "3  carroll            spin        66      True\n",
       "4   taiwan           meals         9      True"
      ]
     },
     "execution_count": 2,
     "metadata": {},
     "output_type": "execute_result"
    }
   ],
   "source": [
    "pandf.head()"
   ]
  },
  {
   "cell_type": "code",
   "execution_count": 3,
   "id": "3f731c9f",
   "metadata": {},
   "outputs": [
    {
     "name": "stderr",
     "output_type": "stream",
     "text": [
      "Setting default log level to \"WARN\".\n",
      "To adjust logging level use sc.setLogLevel(newLevel). For SparkR, use setLogLevel(newLevel).\n"
     ]
    },
    {
     "name": "stdout",
     "output_type": "stream",
     "text": [
      "22/08/28 22:12:59 WARN NativeCodeLoader: Unable to load native-hadoop library for your platform... using builtin-java classes where applicable\n"
     ]
    }
   ],
   "source": [
    "# Create Pyspark enviroment\n",
    "import findspark\n",
    "findspark.init('/home/vieroh/apps/spark-3.3.0-bin-hadoop3-scala2.13') #Here your spark rute.\n",
    "from pyspark.context import SparkContext\n",
    "from pyspark.sql.session import SparkSession\n",
    "sc = SparkSession.builder.getOrCreate()"
   ]
  },
  {
   "cell_type": "code",
   "execution_count": 5,
   "id": "35b9ccef",
   "metadata": {},
   "outputs": [
    {
     "name": "stdout",
     "output_type": "stream",
     "text": [
      "(20, 4)\n"
     ]
    }
   ],
   "source": [
    "df = (sc.read\n",
    "          .format(\"csv\")\n",
    "          .option('header', 'true')\n",
    "          .load(\"for_lambda_and_pyspark.csv\"))\n",
    "          \n",
    "print((df.count(), len(df.columns))) #Shape."
   ]
  },
  {
   "cell_type": "code",
   "execution_count": 9,
   "id": "4f412024",
   "metadata": {},
   "outputs": [
    {
     "name": "stdout",
     "output_type": "stream",
     "text": [
      "DataFrame[words: string, words2: string, integers: string, booleans: string]\n"
     ]
    }
   ],
   "source": [
    "print(df)"
   ]
  },
  {
   "cell_type": "markdown",
   "id": "7d220db0",
   "metadata": {},
   "source": [
    "DF to RDD fails:\n",
    "https://stackoverflow.com/questions/39521341/pyspark-error-attributeerror-sparksession-object-has-no-attribute-paralleli\n",
    "\n",
    "For initializing:\n",
    "https://www.elenacuoco.com/2016/08/28/pyspark-first-approaches-ml-classification/"
   ]
  },
  {
   "cell_type": "code",
   "execution_count": 6,
   "id": "5e8f4d72",
   "metadata": {},
   "outputs": [],
   "source": [
    "rdd= df.rdd"
   ]
  },
  {
   "cell_type": "markdown",
   "id": "29baf4ed",
   "metadata": {},
   "source": [
    "#### Foreach()"
   ]
  },
  {
   "cell_type": "code",
   "execution_count": 10,
   "id": "25cda397",
   "metadata": {},
   "outputs": [
    {
     "name": "stderr",
     "output_type": "stream",
     "text": [
      "('sheriff', 'buildbuild', '70', 'True')\n",
      "('firm', 'infrastructureinfrastructure', '79', 'False')\n",
      "('first', 'allahallah', '-7', 'True')\n",
      "('carroll', 'spinspin', '66', 'True')\n",
      "('taiwan', 'mealsmeals', '9', 'True')\n",
      "('floor', 'heartheart', '63', 'False')\n",
      "('dependent', 'mobilemobile', '22', 'False')\n",
      "('earthquake', 'firstfirst', '78', 'True')\n",
      "('naples', 'chargingcharging', '41', 'False')\n",
      "('kruger', 'knowledgestormknowledgestorm', '32', 'True')\n",
      "('chapter', 'policiespolicies', '65', 'False')\n",
      "('lender', 'brakebrake', '54', 'False')\n",
      "('official', 'systemsystem', '76', 'False')\n",
      "('sheffield', 'rossross', '83', 'True')\n",
      "('ieee', 'superiorsuperior', '17', 'True')\n",
      "('moves', 'mastercardmastercard', '-8', 'True')\n",
      "('richmond', 'saturdaysaturday', '28', 'True')\n",
      "('reader', 'resistantresistant', '45', 'True')\n",
      "('adapted', 'anthonyanthony', '15', 'False')\n",
      "('well', 'investinginvesting', '91', 'False')\n"
     ]
    }
   ],
   "source": [
    "def eye(x):\n",
    "    print (x)\n",
    "    \n",
    "rdd2.foreach(eye)"
   ]
  },
  {
   "cell_type": "code",
   "execution_count": null,
   "id": "b6e48a76",
   "metadata": {},
   "outputs": [],
   "source": [
    "#EXAMPLES\n",
    "#To get row by index. \n",
    "df.rdd.foreach(lambda x: \n",
    "              print(x[0], x[1], x[2], x[3])) \n",
    "\n",
    "#To get columns.  \n",
    "df.rdd.foreach(lambda x: print((x.column1, x.column2)))\n",
    "\n",
    "#Functions:\n",
    "def f(row):\n",
    "    print(row.name)\n",
    "\n",
    "df.foreach(f)"
   ]
  },
  {
   "cell_type": "markdown",
   "id": "cf703ba7",
   "metadata": {},
   "source": [
    "#### Map()\n",
    "Recomiendo este Link:\n",
    "https://sparkbyexamples.com/pandas/pandas-apply-function-usage-examples/"
   ]
  },
  {
   "cell_type": "code",
   "execution_count": 9,
   "id": "63aca47a",
   "metadata": {},
   "outputs": [
    {
     "name": "stdout",
     "output_type": "stream",
     "text": [
      "('sheriff', 'buildbuild', '70', 'True')\n",
      "('firm', 'infrastructureinfrastructure', '79', 'False')\n",
      "('first', 'allahallah', '-7', 'True')\n",
      "('carroll', 'spinspin', '66', 'True')\n",
      "('taiwan', 'mealsmeals', '9', 'True')\n",
      "('floor', 'heartheart', '63', 'False')\n",
      "('dependent', 'mobilemobile', '22', 'False')\n",
      "('earthquake', 'firstfirst', '78', 'True')\n",
      "('naples', 'chargingcharging', '41', 'False')\n",
      "('kruger', 'knowledgestormknowledgestorm', '32', 'True')\n",
      "('chapter', 'policiespolicies', '65', 'False')\n",
      "('lender', 'brakebrake', '54', 'False')\n",
      "('official', 'systemsystem', '76', 'False')\n",
      "('sheffield', 'rossross', '83', 'True')\n",
      "('ieee', 'superiorsuperior', '17', 'True')\n",
      "('moves', 'mastercardmastercard', '-8', 'True')\n",
      "('richmond', 'saturdaysaturday', '28', 'True')\n",
      "('reader', 'resistantresistant', '45', 'True')\n",
      "('adapted', 'anthonyanthony', '15', 'False')\n",
      "('well', 'investinginvesting', '91', 'False')\n"
     ]
    }
   ],
   "source": [
    "rdd2 = rdd.map(lambda x :(x[0],x[1]*2,x[2],x[3]))\n",
    "\n",
    "for element in rdd2.collect():\n",
    "    print(element)"
   ]
  },
  {
   "cell_type": "code",
   "execution_count": null,
   "id": "c04f4d05",
   "metadata": {},
   "outputs": [],
   "source": [
    "#EXAMPLES\n",
    "# Apply to multiple columns\n",
    "df[['A','B']] = df[['A','B']].apply(function_with_two_variables)\n",
    "\n",
    "# Refering columns by index.\n",
    "rdd=df.rdd.map(lambda x: \n",
    "    (x[0]+\",\"+x[1],x[2],x[3]*2)\n",
    "    )  \n",
    "df2=rdd.toDF([\"name\",\"gender\",\"new_salary\"])\n",
    "df2.show()\n",
    "\n",
    "# Referring Column Names (another example)\n",
    "rdd2=df.rdd.map(lambda x: \n",
    "    (x[\"firstname\"]+\",\"+x[\"lastname\"],x[\"gender\"],x[\"salary\"]*2)\n",
    "    ) "
   ]
  },
  {
   "cell_type": "code",
   "execution_count": null,
   "id": "fc373655",
   "metadata": {},
   "outputs": [],
   "source": []
  },
  {
   "cell_type": "code",
   "execution_count": null,
   "id": "2c494d7f",
   "metadata": {},
   "outputs": [],
   "source": []
  },
  {
   "cell_type": "code",
   "execution_count": null,
   "id": "ec57bc7b",
   "metadata": {},
   "outputs": [],
   "source": []
  },
  {
   "cell_type": "markdown",
   "id": "7a78a6b0",
   "metadata": {},
   "source": []
  }
 ],
 "metadata": {
  "kernelspec": {
   "display_name": "Python [conda env:root] *",
   "language": "python",
   "name": "conda-root-py"
  },
  "language_info": {
   "codemirror_mode": {
    "name": "ipython",
    "version": 3
   },
   "file_extension": ".py",
   "mimetype": "text/x-python",
   "name": "python",
   "nbconvert_exporter": "python",
   "pygments_lexer": "ipython3",
   "version": "3.9.12"
  }
 },
 "nbformat": 4,
 "nbformat_minor": 5
}
